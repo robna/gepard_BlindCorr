{
 "cells": [
  {
   "cell_type": "code",
   "execution_count": null,
   "id": "7e65e90a-b4da-4a2b-a0ae-3f8522d12648",
   "metadata": {},
   "outputs": [],
   "source": [
    "%reload_ext autoreload\n",
    "%autoreload 2\n",
    "\n",
    "import getpass\n",
    "import mysql.connector\n",
    "import pandas as pd\n",
    "import MPDB_utils as ut\n",
    "from MPDB_settings import MPDB_server, particleQuery\n",
    "from MPDB_procedures import blank_procedure, blind_procedure, update_env_and_blind, make_syn_blind"
   ]
  },
  {
   "cell_type": "markdown",
   "id": "77cc3523-4892-4d25-bab3-b2780decfbfe",
   "metadata": {},
   "source": [
    "## Establish a connection to the MPDB\n",
    "Enter your username and password when prompted."
   ]
  },
  {
   "cell_type": "code",
   "execution_count": null,
   "id": "00a3bd22-9bd3-4984-a963-3c0207732231",
   "metadata": {},
   "outputs": [],
   "source": [
    "connection = mysql.connector.connect(host=MPDB_server,\n",
    "                                     user=input('Username: '),\n",
    "                                     passwd=getpass.getpass(prompt='Password: '),\n",
    "                                     db='micropoll')"
   ]
  },
  {
   "cell_type": "markdown",
   "id": "1176e292-7375-4a03-bbba-5cc7af817d1b",
   "metadata": {},
   "source": [
    "## All data wrangling happens in the modules of the following pipeline\n",
    "\n",
    "- starting with the call of all particles in the MPDB\n",
    "- certain polymers get excluded (i.e. own contamination or unclear dye signatures)\n",
    "- geometric mean sizes are calculated from size 1 and 2 (length and width of the GEPARD-fitted ellipses)\n",
    "- sizes outside the target spectrum are excluded (here only particles >= 50 µm in `Size_1` are targeted)\n",
    "- shape and colour get simplified for later distinct phenotype creation\n",
    "- the particles ID column gets used as the index\n",
    "\n",
    "All the above uses a combined `MP` dataframe as inputs AND outputs. In the last step this dataframe gets filtered to only include the particles relevant in this analysis and splits it in different sub-dataframes\n",
    "- `env_MP`contains the environmental MP particles (i.e. from \"real\" samples)\n",
    "- `IOW_blind_MP` contains the MP particles from procedural IOW blind samples\n",
    "- `samples_MP` is a concatenation of the two above\n",
    "- `IPF_blank_MP` contains the MP particles from IPF lab blanks"
   ]
  },
  {
   "cell_type": "code",
   "execution_count": null,
   "id": "423e2205-f8ac-49d7-83a9-1e6ea7e699f8",
   "metadata": {},
   "outputs": [],
   "source": [
    "env_MP, IOW_blind_MP, samples_MP, IPF_blank_MP = pd.read_sql_query(particleQuery, connection\n",
    ").pipe(ut.poly_exclude  # exclude polymers which are on polyDropList in MPDB_settings.py\n",
    ").pipe(ut.particle_amplification  # repeat each particle according to fraction analysed\n",
    ").pipe(ut.geom_mean  # Calculates geometric mean of particle sizes TODO: do we want to calculate it based on two or three dimensions?\n",
    ").pipe(ut.size_filter  # Currently filters Size1 >= 50 µm TODO: do we want to apply this here or only filter during analysis?\n",
    ").pipe(ut.shape_colour  # condense shape and colour into few unambiguous categories\n",
    ").pipe(ut.set_id_to_index  # does what it says\n",
    ").pipe(ut.separate_MPs)  # separate environmental MP from IOW blinds and IPF blanks\n",
    "\n",
    "print(f'Using {len(IOW_blind_MP.Sample.unique())} IOW Blind samples:  ')\n",
    "print(IOW_blind_MP.Sample.unique())"
   ]
  },
  {
   "cell_type": "markdown",
   "id": "5a799033-5cdd-4076-8d92-4cfc11a0cb64",
   "metadata": {
    "tags": []
   },
   "source": [
    "## Removing particles due to lab blanks..."
   ]
  },
  {
   "cell_type": "code",
   "execution_count": null,
   "id": "876b6b5c-1939-4f2a-8b20-19df13f2fca0",
   "metadata": {},
   "outputs": [],
   "source": [
    "samples_MP_copy, IPF_elimination_list = blank_procedure(samples_MP, IPF_blank_MP)"
   ]
  },
  {
   "cell_type": "markdown",
   "id": "05f5a783-ac8b-44b6-bd15-9a13f17eadca",
   "metadata": {
    "tags": []
   },
   "source": [
    "## Some intermediate steps...\n",
    "- The blank procedure was conducted on the combined `samples_MP` dataframe. The results are now proted to the separate `env_MP` and `IOW_blind_MP` dataframes.\n",
    "- A synthesised blind particle dataframe `syn_blind` is generated for the blind procedure."
   ]
  },
  {
   "cell_type": "code",
   "execution_count": null,
   "id": "e0c37224-55ec-473e-921e-8707972a22e5",
   "metadata": {},
   "outputs": [],
   "source": [
    "IOW_blind_MP, env_MP = update_env_and_blind(samples_MP_copy, IOW_blind_MP)\n",
    "\n",
    "syn_blind = make_syn_blind(IOW_blind_MP)"
   ]
  },
  {
   "cell_type": "markdown",
   "id": "2ce642a1-62ba-492a-aa5e-fe6b655e7190",
   "metadata": {},
   "source": [
    "## Removing particles due to procedural blinds..."
   ]
  },
  {
   "cell_type": "code",
   "execution_count": null,
   "id": "3c88715e-c800-483d-9a22-10b606ae97ed",
   "metadata": {},
   "outputs": [],
   "source": [
    "env_MP_copy, IOW_elimination_list = blind_procedure(env_MP, syn_blind)"
   ]
  },
  {
   "cell_type": "markdown",
   "id": "85bed408-a2b4-4ce9-ae47-24eb33f069e6",
   "metadata": {},
   "source": [
    "## Export final list of valid MP particles"
   ]
  },
  {
   "cell_type": "code",
   "execution_count": null,
   "id": "50739c07-355c-4c19-8d8c-b3d73b701636",
   "metadata": {},
   "outputs": [],
   "source": [
    "env_MP_copy.to_csv('../data/mp_pdd.csv')"
   ]
  }
 ],
 "metadata": {
  "kernelspec": {
   "display_name": "Python 3 (ipykernel)",
   "language": "python",
   "name": "python3"
  },
  "language_info": {
   "codemirror_mode": {
    "name": "ipython",
    "version": 3
   },
   "file_extension": ".py",
   "mimetype": "text/x-python",
   "name": "python",
   "nbconvert_exporter": "python",
   "pygments_lexer": "ipython3",
   "version": "3.9.13"
  },
  "vscode": {
   "interpreter": {
    "hash": "82a31816b63c673b7463547b8d8376fc489f1e362f1a21f244a13819d6095661"
   }
  }
 },
 "nbformat": 4,
 "nbformat_minor": 5
}
